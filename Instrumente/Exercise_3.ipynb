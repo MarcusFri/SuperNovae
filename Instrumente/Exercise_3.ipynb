{
 "cells": [
  {
   "attachments": {},
   "cell_type": "markdown",
   "id": "1d08c412-7b12-49b7-84e0-4f1c27c36dce",
   "metadata": {},
   "source": [
    "Marcus Frischherz, Matrikelnummer 08225094\n",
    "# 280413-1 Astronomische Instrumente\n",
    "## Übung 3"
   ]
  },
  {
   "cell_type": "markdown",
   "id": "d5318362-5303-4f5e-a8ec-0f2d728016f7",
   "metadata": {},
   "source": [
    "### Spektroskopie 1\n",
    "Ein Spektrograph besitzt bei der Wellenlänge $\\lambda$ = 500 nm ein spektrales\n",
    "Auflösungsvermögen von R = 2200.\n",
    "#### a) Berechnen Sie das Wellenlängenelement Δ$\\lambda$ für dieses Instrument."
   ]
  },
  {
   "cell_type": "markdown",
   "id": "04a7d9ee",
   "metadata": {},
   "source": [
    "Antwort:\n",
    "\n",
    "$R=\\frac{\\lambda}{\\Delta \\lambda}$ => ${\\Delta \\lambda} = \\frac{\\lambda}{R} \\approx$ 0,227 nm\n"
   ]
  },
  {
   "cell_type": "markdown",
   "id": "ff972116",
   "metadata": {},
   "source": [
    "#### b) Wieviele Detektor-Pixel sollten idealerweise das Wellenlängenintervall 450 bis 550 nm abdecken?"
   ]
  },
  {
   "cell_type": "markdown",
   "id": "b616d1c7",
   "metadata": {
    "vscode": {
     "languageId": "plaintext"
    }
   },
   "source": [
    "Antwort:\n",
    "\n",
    "Nyquist Kriterium: 2 Pixel pro aufgelöstem Wellenlängenelement.\n",
    "\n",
    "Anzahl Pixel = $2\\cdot \\frac{(550-450) nm}{0.227 nm}=880$"
   ]
  },
  {
   "cell_type": "markdown",
   "id": "99640129",
   "metadata": {},
   "source": [
    "#### c) NaD Doublet\n",
    "Das NaD Doublet (589,0nm, 589,6nm) ist in Sternspektren ein wichtiger Indikator für\n",
    "die Präsenz eines statischen Magnetfeldes (Zeman-Effekt). Wie groß muss die\n",
    "spektrale Auflösung R mindestens sein, um das NaD Doublet in zwei Einzellinien\n",
    "auflösen zu können (im Sinne des Rayleigh-Kriteriums)? Wird diese Auflösung vom\n",
    "beschriebenen Spektrographen erreicht?"
   ]
  },
  {
   "cell_type": "markdown",
   "id": "74743bd5",
   "metadata": {},
   "source": [
    "Antwort:\n",
    "\n",
    "Die beiden Linien liegen 0,6 nm auseinander, und das Wellenlängenelement wurde mit 0,227 nm bestimmt, das heißt: Ja, die Auflösung des gegebenen Spektrographen ist ausreichend.\n",
    "\n",
    "$R=\\frac{\\lambda}{\\Delta \\lambda} = \\frac{589,6 nm}{0,6 nm} \\approx 983$\n",
    "Die Auflösung muss mindestens 983 betragen, um die NaD Doublette auflösen zu können."
   ]
  },
  {
   "cell_type": "markdown",
   "id": "e7f27352",
   "metadata": {},
   "source": [
    "### Spektroskopie 2\n",
    "TU Boo ist ein spektroskopischer Doppelstern mit einer Periode von 8 h. Die Massen der beiden Sterne sind 1,1 und 0.44 $M_\\odot$. Sie wollen die Radialgeschwindigkeiten der beiden Sterne spektroskopisch messen. Annahme: Sterne bewegen sich auf\n",
    "Kreisbahnen\n",
    "#### a) Welche Radialgeschwindigkeiten würden Sie an Hand der gegebenen Massen erwarten?"
   ]
  },
  {
   "cell_type": "markdown",
   "id": "50ad9049",
   "metadata": {},
   "source": [
    "Antwort:\n",
    "\n",
    "Wir verwenden die Binary Mass function (3. Kepler'sches Gesetz) und nehmen an, dass der Betrachtungswinkel $\\sin i$ = 1\n",
    "\n",
    "$f=\\frac{M_2^3}{(M_1+M_2)^2} = \\frac{T \\cdot v_1^3}{2\\pi G}$ =>\n",
    "\n",
    "$v_1 = M_2 \\sqrt[3]{\\frac{2 \\pi G}{T(M_1 + M_2)^2}}$\n",
    "\n",
    "$v_2 = M_1 \\sqrt[3]{\\frac{2 \\pi G}{T(M_1 + M_2)^2}} = v_1 \\frac{M_1}{M_2}$"
   ]
  },
  {
   "cell_type": "code",
   "execution_count": 13,
   "id": "bdffe8c8",
   "metadata": {},
   "outputs": [
    {
     "name": "stdout",
     "output_type": "stream",
     "text": [
      "v1 = 101303 m/s = 101.3 km/s\n",
      "v2 = 253257 m/s = 253.3 km/s\n",
      "v2 = 253257 m/s = 253.3 km/s (Kontrolle)\n"
     ]
    }
   ],
   "source": [
    "import numpy as np\n",
    "\n",
    "# Constants\n",
    "Msun = 1.989e30 # kg\n",
    "G = 6.67e-11    # Gravitational constant (N m^2/kg^2)\n",
    "c = 2.998e8     # m/s\n",
    "hour = 3600 # seconds\n",
    "\n",
    "M1 = 1.1 * Msun\n",
    "M2 = 0.44 * Msun\n",
    "\n",
    "v1 = M2 * (2 * np.pi * G / ( 8 * hour * ((M1 + M2)**2))) ** (1/3)\n",
    "print (f'v1 = {v1:.0f} m/s = {(v1 / 1000):.1f} km/s')\n",
    "\n",
    "v2 = M1 * (2 * np.pi * G / ( 8 * hour * ((M1 + M2)**2))) ** (1/3)\n",
    "print (f'v2 = {v2:.0f} m/s = {(v2 / 1000):.1f} km/s')\n",
    "\n",
    "v2 = v1 * M1 / M2\n",
    "print (f'v2 = {v2:.0f} m/s = {(v2 / 1000):.1f} km/s (Kontrolle)')"
   ]
  },
  {
   "cell_type": "markdown",
   "id": "994b2303",
   "metadata": {},
   "source": [
    "#### b) Welche spektrale Auflösung benötigen Sie dafür?\n",
    "Der Intermediate Dispersion Spectrograph (IDS) am 2.5m Isaac Newtong Teleskop (Kanarische Inseln) hat eine Dispersion von 0.031 nm/pixel bei λ=460 nm. Ist die spektrale Auflösung ausreichend für das Beobachtungsprogramm?"
   ]
  },
  {
   "cell_type": "markdown",
   "id": "a6643638",
   "metadata": {},
   "source": [
    "Antwort:\n",
    "\n",
    "$R=\\frac{\\lambda}{\\Delta \\lambda}$\n",
    "\n",
    "Nyquist: 2 pixel pro 0.0031 nm bei 460 nm => $R_{IDS}=\\frac{460 nm}{2 \\cdot 0.031 nm} \\approx 7420$\n",
    "\n",
    "Die Verschiebung der Spektrallinien bei radialer Bewegung beträgt $\\Delta \\lambda = \\frac{\\Delta v}{c}$\n",
    "\n",
    "$R_{min}=\\frac{c}{v_1}, \\text{weil } v_2 > v_1$"
   ]
  },
  {
   "cell_type": "code",
   "execution_count": 21,
   "id": "7ffd806c",
   "metadata": {},
   "outputs": [
    {
     "name": "stdout",
     "output_type": "stream",
     "text": [
      "Rmin = 2959\n"
     ]
    }
   ],
   "source": [
    "Rmin = c / v1\n",
    "\n",
    "print(f'Rmin = {Rmin:.0f}')"
   ]
  },
  {
   "cell_type": "markdown",
   "id": "8381ab4c",
   "metadata": {},
   "source": [
    "Die Auflösung ist ausreichend.\n",
    "#### c) Beschreiben Sie kurz wie Sie die Beobachtung und Auswertung durchführen würden.\n"
   ]
  },
  {
   "cell_type": "markdown",
   "id": "64123f64",
   "metadata": {},
   "source": [
    "Antwort:\n",
    "Bei der Beobachtung ist die Periodenzeit von 8 h zu beachten. Das heißt, die Beobachtungen sollten entweder mindestens 8 h im Stück sein, oder zumindest in verschiedenen Nächten alle Bereiche der Phase enthalten. Gut wäre es, auch eine Spektrallinie, die nicht von TU Boo ist mitzubeobachten, z.b. vom Himmel. In der Auswertung kann die von der Bewegung verursachte Verschiebung dann direkt mit der stationären Linie verglichen, was das Kalibirieren erheblich vereinfacht: es muss nicht mer absolut auf die Wellenlänge kalibriert werden."
   ]
  },
  {
   "attachments": {
    "Boller.png": {
     "image/png": "[encoded data removed]"
    }
   },
   "cell_type": "markdown",
   "id": "d3deeb27",
   "metadata": {},
   "source": [
    "### Cassegrain Spektrograph\n",
    "Am ESO 1.52m Teleskop war über viele Jahre ein Boller & Chivens Cassegrain\n",
    "Spektrograph im Einsatz.\n",
    "\n",
    "#### a)\n",
    "Berechnen Sie auf Basis der in der Tabelle angegebenen Kenndaten für Teleskop- und\n",
    "Spektrographenoptik (anamorphotischer Vergrößerungsfaktor= 0.8) den\n",
    "Abbildungsmaßstab in der Detektorebene (Pixelgröße des CCDs: 15×15μm2). Welche\n",
    "Spaltbreite müssen Sie wählen, um die maximale spektrale Auflösung zu erreichen\n",
    "(Nyquist Kriterium)?\n",
    "\n",
    "![Boller.png](attachment:Boller.png)"
   ]
  },
  {
   "cell_type": "markdown",
   "id": "70997b7d",
   "metadata": {},
   "source": [
    "Antwort:\n",
    "\n",
    "Öffnungsverhältnis Teleskop (f/ = 14.9), O = D / f. $f = 1.52 m \\cdot 14.9 = 22.65 m$\n",
    "\n",
    "Spektrograph: $V=r \\frac{f_{Kamera}}{f_{Kollimator}} = 0.8 \\frac{127}{750} = 0.135$\n",
    "\n"
   ]
  }
 ],
 "metadata": {
  "kernelspec": {
   "display_name": "Python 3",
   "language": "python",
   "name": "python3"
  },
  "language_info": {
   "codemirror_mode": {
    "name": "ipython",
    "version": 3
   },
   "file_extension": ".py",
   "mimetype": "text/x-python",
   "name": "python",
   "nbconvert_exporter": "python",
   "pygments_lexer": "ipython3",
   "version": "3.13.0"
  }
 },
 "nbformat": 4,
 "nbformat_minor": 5
}
